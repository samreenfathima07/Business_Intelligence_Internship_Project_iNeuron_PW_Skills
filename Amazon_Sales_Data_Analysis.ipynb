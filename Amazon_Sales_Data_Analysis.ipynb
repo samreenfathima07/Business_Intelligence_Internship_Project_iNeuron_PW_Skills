{
 "cells": [
  {
   "cell_type": "markdown",
   "id": "a1b9ec89",
   "metadata": {},
   "source": [
    "## Import Libraries"
   ]
  },
  {
   "cell_type": "code",
   "execution_count": 2,
   "id": "e4a746ed",
   "metadata": {},
   "outputs": [],
   "source": [
    "import numpy as np\n",
    "import pandas as pd\n",
    "import matplotlib.pyplot as plt\n",
    "import seaborn as sns\n",
    "%matplotlib inline"
   ]
  },
  {
   "cell_type": "markdown",
   "id": "710e8fbd",
   "metadata": {},
   "source": [
    "## Import Data"
   ]
  },
  {
   "cell_type": "code",
   "execution_count": 15,
   "id": "fa5f858e",
   "metadata": {},
   "outputs": [],
   "source": [
    "df = pd.read_excel('../Analyzing Amazon Sales data_Project_iNeuron/SALESDATA.xlsx')"
   ]
  },
  {
   "cell_type": "code",
   "execution_count": 16,
   "id": "3f35e8e6",
   "metadata": {},
   "outputs": [
    {
     "data": {
      "text/html": [
       "<div>\n",
       "<style scoped>\n",
       "    .dataframe tbody tr th:only-of-type {\n",
       "        vertical-align: middle;\n",
       "    }\n",
       "\n",
       "    .dataframe tbody tr th {\n",
       "        vertical-align: top;\n",
       "    }\n",
       "\n",
       "    .dataframe thead th {\n",
       "        text-align: right;\n",
       "    }\n",
       "</style>\n",
       "<table border=\"1\" class=\"dataframe\">\n",
       "  <thead>\n",
       "    <tr style=\"text-align: right;\">\n",
       "      <th></th>\n",
       "      <th>CustKey</th>\n",
       "      <th>DateKey</th>\n",
       "      <th>Discount Amount</th>\n",
       "      <th>Invoice Date</th>\n",
       "      <th>Invoice Number</th>\n",
       "      <th>Item Class</th>\n",
       "      <th>Item Number</th>\n",
       "      <th>Item</th>\n",
       "      <th>Line Number</th>\n",
       "      <th>List Price</th>\n",
       "      <th>Order Number</th>\n",
       "      <th>Promised Delivery Date</th>\n",
       "      <th>Sales Amount</th>\n",
       "      <th>Sales Amount Based on List Price</th>\n",
       "      <th>Sales Cost Amount</th>\n",
       "      <th>Sales Margin Amount</th>\n",
       "      <th>Sales Price</th>\n",
       "      <th>Sales Quantity</th>\n",
       "      <th>Sales Rep</th>\n",
       "      <th>U/M</th>\n",
       "    </tr>\n",
       "  </thead>\n",
       "  <tbody>\n",
       "    <tr>\n",
       "      <th>0</th>\n",
       "      <td>10000481</td>\n",
       "      <td>2017-04-30</td>\n",
       "      <td>-237.91</td>\n",
       "      <td>2017-04-30</td>\n",
       "      <td>100012</td>\n",
       "      <td>NaN</td>\n",
       "      <td>NaN</td>\n",
       "      <td>Urban Large Eggs</td>\n",
       "      <td>2000</td>\n",
       "      <td>0.00</td>\n",
       "      <td>200015</td>\n",
       "      <td>2017-04-30</td>\n",
       "      <td>237.91</td>\n",
       "      <td>0.00</td>\n",
       "      <td>0.0</td>\n",
       "      <td>237.91</td>\n",
       "      <td>237.910000</td>\n",
       "      <td>1</td>\n",
       "      <td>184</td>\n",
       "      <td>EA</td>\n",
       "    </tr>\n",
       "    <tr>\n",
       "      <th>1</th>\n",
       "      <td>10002220</td>\n",
       "      <td>2017-07-14</td>\n",
       "      <td>368.79</td>\n",
       "      <td>2017-07-14</td>\n",
       "      <td>100233</td>\n",
       "      <td>P01</td>\n",
       "      <td>20910</td>\n",
       "      <td>Moms Sliced Turkey</td>\n",
       "      <td>1000</td>\n",
       "      <td>824.96</td>\n",
       "      <td>200245</td>\n",
       "      <td>2017-07-14</td>\n",
       "      <td>456.17</td>\n",
       "      <td>824.96</td>\n",
       "      <td>0.0</td>\n",
       "      <td>456.17</td>\n",
       "      <td>456.170000</td>\n",
       "      <td>1</td>\n",
       "      <td>127</td>\n",
       "      <td>EA</td>\n",
       "    </tr>\n",
       "    <tr>\n",
       "      <th>2</th>\n",
       "      <td>10002220</td>\n",
       "      <td>2017-10-17</td>\n",
       "      <td>109.73</td>\n",
       "      <td>2017-10-17</td>\n",
       "      <td>116165</td>\n",
       "      <td>P01</td>\n",
       "      <td>38076</td>\n",
       "      <td>Cutting Edge Foot-Long Hot Dogs</td>\n",
       "      <td>1000</td>\n",
       "      <td>548.66</td>\n",
       "      <td>213157</td>\n",
       "      <td>2017-10-16</td>\n",
       "      <td>438.93</td>\n",
       "      <td>548.66</td>\n",
       "      <td>0.0</td>\n",
       "      <td>438.93</td>\n",
       "      <td>438.930000</td>\n",
       "      <td>1</td>\n",
       "      <td>127</td>\n",
       "      <td>EA</td>\n",
       "    </tr>\n",
       "    <tr>\n",
       "      <th>3</th>\n",
       "      <td>10002489</td>\n",
       "      <td>2017-06-03</td>\n",
       "      <td>-211.75</td>\n",
       "      <td>2017-06-03</td>\n",
       "      <td>100096</td>\n",
       "      <td>NaN</td>\n",
       "      <td>NaN</td>\n",
       "      <td>Kiwi Lox</td>\n",
       "      <td>1000</td>\n",
       "      <td>0.00</td>\n",
       "      <td>200107</td>\n",
       "      <td>2017-06-03</td>\n",
       "      <td>211.75</td>\n",
       "      <td>0.00</td>\n",
       "      <td>0.0</td>\n",
       "      <td>211.75</td>\n",
       "      <td>211.750000</td>\n",
       "      <td>1</td>\n",
       "      <td>160</td>\n",
       "      <td>EA</td>\n",
       "    </tr>\n",
       "    <tr>\n",
       "      <th>4</th>\n",
       "      <td>10004516</td>\n",
       "      <td>2017-05-27</td>\n",
       "      <td>96627.94</td>\n",
       "      <td>2017-05-27</td>\n",
       "      <td>103341</td>\n",
       "      <td>P01</td>\n",
       "      <td>60776</td>\n",
       "      <td>High Top Sweet Onion</td>\n",
       "      <td>1000</td>\n",
       "      <td>408.52</td>\n",
       "      <td>203785</td>\n",
       "      <td>2017-05-28</td>\n",
       "      <td>89248.66</td>\n",
       "      <td>185876.60</td>\n",
       "      <td>0.0</td>\n",
       "      <td>89248.66</td>\n",
       "      <td>196.150901</td>\n",
       "      <td>455</td>\n",
       "      <td>124</td>\n",
       "      <td>SE</td>\n",
       "    </tr>\n",
       "  </tbody>\n",
       "</table>\n",
       "</div>"
      ],
      "text/plain": [
       "    CustKey    DateKey  Discount Amount Invoice Date  Invoice Number  \\\n",
       "0  10000481 2017-04-30          -237.91   2017-04-30          100012   \n",
       "1  10002220 2017-07-14           368.79   2017-07-14          100233   \n",
       "2  10002220 2017-10-17           109.73   2017-10-17          116165   \n",
       "3  10002489 2017-06-03          -211.75   2017-06-03          100096   \n",
       "4  10004516 2017-05-27         96627.94   2017-05-27          103341   \n",
       "\n",
       "  Item Class Item Number                             Item  Line Number  \\\n",
       "0        NaN         NaN                 Urban Large Eggs         2000   \n",
       "1        P01       20910               Moms Sliced Turkey         1000   \n",
       "2        P01       38076  Cutting Edge Foot-Long Hot Dogs         1000   \n",
       "3        NaN         NaN                         Kiwi Lox         1000   \n",
       "4        P01       60776             High Top Sweet Onion         1000   \n",
       "\n",
       "   List Price  Order Number Promised Delivery Date  Sales Amount  \\\n",
       "0        0.00        200015             2017-04-30        237.91   \n",
       "1      824.96        200245             2017-07-14        456.17   \n",
       "2      548.66        213157             2017-10-16        438.93   \n",
       "3        0.00        200107             2017-06-03        211.75   \n",
       "4      408.52        203785             2017-05-28      89248.66   \n",
       "\n",
       "   Sales Amount Based on List Price  Sales Cost Amount  Sales Margin Amount  \\\n",
       "0                              0.00                0.0               237.91   \n",
       "1                            824.96                0.0               456.17   \n",
       "2                            548.66                0.0               438.93   \n",
       "3                              0.00                0.0               211.75   \n",
       "4                         185876.60                0.0             89248.66   \n",
       "\n",
       "   Sales Price  Sales Quantity  Sales Rep U/M  \n",
       "0   237.910000               1        184  EA  \n",
       "1   456.170000               1        127  EA  \n",
       "2   438.930000               1        127  EA  \n",
       "3   211.750000               1        160  EA  \n",
       "4   196.150901             455        124  SE  "
      ]
     },
     "execution_count": 16,
     "metadata": {},
     "output_type": "execute_result"
    }
   ],
   "source": [
    "df.head()"
   ]
  },
  {
   "cell_type": "markdown",
   "id": "6b9ef06f",
   "metadata": {},
   "source": [
    "## Understanding the data"
   ]
  },
  {
   "cell_type": "code",
   "execution_count": 17,
   "id": "4e443862",
   "metadata": {},
   "outputs": [
    {
     "data": {
      "text/plain": [
       "(65282, 20)"
      ]
     },
     "execution_count": 17,
     "metadata": {},
     "output_type": "execute_result"
    }
   ],
   "source": [
    "df.shape"
   ]
  },
  {
   "cell_type": "code",
   "execution_count": 19,
   "id": "1ec78970",
   "metadata": {},
   "outputs": [
    {
     "data": {
      "text/plain": [
       "Index(['CustKey', 'DateKey', 'Discount Amount', 'Invoice Date',\n",
       "       'Invoice Number', 'Item Class', 'Item Number', 'Item', 'Line Number',\n",
       "       'List Price', 'Order Number', 'Promised Delivery Date', 'Sales Amount',\n",
       "       'Sales Amount Based on List Price', 'Sales Cost Amount',\n",
       "       'Sales Margin Amount', 'Sales Price', 'Sales Quantity', 'Sales Rep',\n",
       "       'U/M'],\n",
       "      dtype='object')"
      ]
     },
     "execution_count": 19,
     "metadata": {},
     "output_type": "execute_result"
    }
   ],
   "source": [
    "df.columns"
   ]
  },
  {
   "cell_type": "code",
   "execution_count": 20,
   "id": "418dd133",
   "metadata": {},
   "outputs": [
    {
     "name": "stdout",
     "output_type": "stream",
     "text": [
      "<class 'pandas.core.frame.DataFrame'>\n",
      "RangeIndex: 65282 entries, 0 to 65281\n",
      "Data columns (total 20 columns):\n",
      " #   Column                            Non-Null Count  Dtype         \n",
      "---  ------                            --------------  -----         \n",
      " 0   CustKey                           65282 non-null  int64         \n",
      " 1   DateKey                           65282 non-null  datetime64[ns]\n",
      " 2   Discount Amount                   65280 non-null  float64       \n",
      " 3   Invoice Date                      65282 non-null  datetime64[ns]\n",
      " 4   Invoice Number                    65282 non-null  int64         \n",
      " 5   Item Class                        56993 non-null  object        \n",
      " 6   Item Number                       65241 non-null  object        \n",
      " 7   Item                              65282 non-null  object        \n",
      " 8   Line Number                       65282 non-null  int64         \n",
      " 9   List Price                        65282 non-null  float64       \n",
      " 10  Order Number                      65282 non-null  int64         \n",
      " 11  Promised Delivery Date            65282 non-null  datetime64[ns]\n",
      " 12  Sales Amount                      65282 non-null  float64       \n",
      " 13  Sales Amount Based on List Price  65282 non-null  float64       \n",
      " 14  Sales Cost Amount                 65282 non-null  float64       \n",
      " 15  Sales Margin Amount               65282 non-null  float64       \n",
      " 16  Sales Price                       65281 non-null  float64       \n",
      " 17  Sales Quantity                    65282 non-null  int64         \n",
      " 18  Sales Rep                         65282 non-null  int64         \n",
      " 19  U/M                               65282 non-null  object        \n",
      "dtypes: datetime64[ns](3), float64(7), int64(6), object(4)\n",
      "memory usage: 10.0+ MB\n"
     ]
    }
   ],
   "source": [
    "df.info()"
   ]
  },
  {
   "cell_type": "code",
   "execution_count": 21,
   "id": "9d8f37cf",
   "metadata": {},
   "outputs": [
    {
     "data": {
      "text/html": [
       "<div>\n",
       "<style scoped>\n",
       "    .dataframe tbody tr th:only-of-type {\n",
       "        vertical-align: middle;\n",
       "    }\n",
       "\n",
       "    .dataframe tbody tr th {\n",
       "        vertical-align: top;\n",
       "    }\n",
       "\n",
       "    .dataframe thead th {\n",
       "        text-align: right;\n",
       "    }\n",
       "</style>\n",
       "<table border=\"1\" class=\"dataframe\">\n",
       "  <thead>\n",
       "    <tr style=\"text-align: right;\">\n",
       "      <th></th>\n",
       "      <th>CustKey</th>\n",
       "      <th>Discount Amount</th>\n",
       "      <th>Invoice Number</th>\n",
       "      <th>Line Number</th>\n",
       "      <th>List Price</th>\n",
       "      <th>Order Number</th>\n",
       "      <th>Sales Amount</th>\n",
       "      <th>Sales Amount Based on List Price</th>\n",
       "      <th>Sales Cost Amount</th>\n",
       "      <th>Sales Margin Amount</th>\n",
       "      <th>Sales Price</th>\n",
       "      <th>Sales Quantity</th>\n",
       "      <th>Sales Rep</th>\n",
       "    </tr>\n",
       "  </thead>\n",
       "  <tbody>\n",
       "    <tr>\n",
       "      <th>count</th>\n",
       "      <td>6.528200e+04</td>\n",
       "      <td>65280.000000</td>\n",
       "      <td>65282.000000</td>\n",
       "      <td>65282.000000</td>\n",
       "      <td>65282.000000</td>\n",
       "      <td>65282.000000</td>\n",
       "      <td>65282.000000</td>\n",
       "      <td>65282.000000</td>\n",
       "      <td>65282.000000</td>\n",
       "      <td>65282.000000</td>\n",
       "      <td>65281.000000</td>\n",
       "      <td>65282.000000</td>\n",
       "      <td>65282.000000</td>\n",
       "    </tr>\n",
       "    <tr>\n",
       "      <th>mean</th>\n",
       "      <td>1.001770e+07</td>\n",
       "      <td>1855.574835</td>\n",
       "      <td>216223.662020</td>\n",
       "      <td>23713.849790</td>\n",
       "      <td>514.693380</td>\n",
       "      <td>180583.064352</td>\n",
       "      <td>2852.038373</td>\n",
       "      <td>4707.473613</td>\n",
       "      <td>1660.979228</td>\n",
       "      <td>1191.059145</td>\n",
       "      <td>283.615913</td>\n",
       "      <td>45.084311</td>\n",
       "      <td>137.422398</td>\n",
       "    </tr>\n",
       "    <tr>\n",
       "      <th>std</th>\n",
       "      <td>7.176148e+03</td>\n",
       "      <td>9037.140888</td>\n",
       "      <td>94992.281866</td>\n",
       "      <td>32664.024053</td>\n",
       "      <td>449.189182</td>\n",
       "      <td>67593.871116</td>\n",
       "      <td>15164.342107</td>\n",
       "      <td>20696.443785</td>\n",
       "      <td>9556.485250</td>\n",
       "      <td>5860.787502</td>\n",
       "      <td>252.876719</td>\n",
       "      <td>429.661793</td>\n",
       "      <td>26.643936</td>\n",
       "    </tr>\n",
       "    <tr>\n",
       "      <th>min</th>\n",
       "      <td>1.000045e+07</td>\n",
       "      <td>-255820.800000</td>\n",
       "      <td>100012.000000</td>\n",
       "      <td>1000.000000</td>\n",
       "      <td>0.000000</td>\n",
       "      <td>100838.000000</td>\n",
       "      <td>200.010000</td>\n",
       "      <td>0.000000</td>\n",
       "      <td>0.000000</td>\n",
       "      <td>-3932.930000</td>\n",
       "      <td>-5000.000000</td>\n",
       "      <td>-1.000000</td>\n",
       "      <td>103.000000</td>\n",
       "    </tr>\n",
       "    <tr>\n",
       "      <th>25%</th>\n",
       "      <td>1.001272e+07</td>\n",
       "      <td>246.037500</td>\n",
       "      <td>117931.000000</td>\n",
       "      <td>3000.000000</td>\n",
       "      <td>181.560000</td>\n",
       "      <td>115321.000000</td>\n",
       "      <td>308.387500</td>\n",
       "      <td>561.040000</td>\n",
       "      <td>167.790000</td>\n",
       "      <td>129.950000</td>\n",
       "      <td>100.070000</td>\n",
       "      <td>2.000000</td>\n",
       "      <td>113.000000</td>\n",
       "    </tr>\n",
       "    <tr>\n",
       "      <th>50%</th>\n",
       "      <td>1.001966e+07</td>\n",
       "      <td>441.760000</td>\n",
       "      <td>222869.500000</td>\n",
       "      <td>12000.000000</td>\n",
       "      <td>325.190000</td>\n",
       "      <td>203702.000000</td>\n",
       "      <td>553.940000</td>\n",
       "      <td>998.160000</td>\n",
       "      <td>304.500000</td>\n",
       "      <td>246.490000</td>\n",
       "      <td>183.757500</td>\n",
       "      <td>3.000000</td>\n",
       "      <td>134.000000</td>\n",
       "    </tr>\n",
       "    <tr>\n",
       "      <th>75%</th>\n",
       "      <td>1.002351e+07</td>\n",
       "      <td>999.760000</td>\n",
       "      <td>314318.750000</td>\n",
       "      <td>32000.000000</td>\n",
       "      <td>803.860000</td>\n",
       "      <td>218576.000000</td>\n",
       "      <td>1280.042500</td>\n",
       "      <td>2315.040000</td>\n",
       "      <td>687.320000</td>\n",
       "      <td>579.530000</td>\n",
       "      <td>448.220000</td>\n",
       "      <td>8.000000</td>\n",
       "      <td>160.000000</td>\n",
       "    </tr>\n",
       "    <tr>\n",
       "      <th>max</th>\n",
       "      <td>1.002758e+07</td>\n",
       "      <td>343532.660000</td>\n",
       "      <td>332842.000000</td>\n",
       "      <td>344000.000000</td>\n",
       "      <td>2760.700000</td>\n",
       "      <td>321532.000000</td>\n",
       "      <td>555376.000000</td>\n",
       "      <td>632610.160000</td>\n",
       "      <td>366576.000000</td>\n",
       "      <td>188800.000000</td>\n",
       "      <td>6035.000000</td>\n",
       "      <td>16000.000000</td>\n",
       "      <td>185.000000</td>\n",
       "    </tr>\n",
       "  </tbody>\n",
       "</table>\n",
       "</div>"
      ],
      "text/plain": [
       "            CustKey  Discount Amount  Invoice Number    Line Number  \\\n",
       "count  6.528200e+04     65280.000000    65282.000000   65282.000000   \n",
       "mean   1.001770e+07      1855.574835   216223.662020   23713.849790   \n",
       "std    7.176148e+03      9037.140888    94992.281866   32664.024053   \n",
       "min    1.000045e+07   -255820.800000   100012.000000    1000.000000   \n",
       "25%    1.001272e+07       246.037500   117931.000000    3000.000000   \n",
       "50%    1.001966e+07       441.760000   222869.500000   12000.000000   \n",
       "75%    1.002351e+07       999.760000   314318.750000   32000.000000   \n",
       "max    1.002758e+07    343532.660000   332842.000000  344000.000000   \n",
       "\n",
       "         List Price   Order Number   Sales Amount  \\\n",
       "count  65282.000000   65282.000000   65282.000000   \n",
       "mean     514.693380  180583.064352    2852.038373   \n",
       "std      449.189182   67593.871116   15164.342107   \n",
       "min        0.000000  100838.000000     200.010000   \n",
       "25%      181.560000  115321.000000     308.387500   \n",
       "50%      325.190000  203702.000000     553.940000   \n",
       "75%      803.860000  218576.000000    1280.042500   \n",
       "max     2760.700000  321532.000000  555376.000000   \n",
       "\n",
       "       Sales Amount Based on List Price  Sales Cost Amount  \\\n",
       "count                      65282.000000       65282.000000   \n",
       "mean                        4707.473613        1660.979228   \n",
       "std                        20696.443785        9556.485250   \n",
       "min                            0.000000           0.000000   \n",
       "25%                          561.040000         167.790000   \n",
       "50%                          998.160000         304.500000   \n",
       "75%                         2315.040000         687.320000   \n",
       "max                       632610.160000      366576.000000   \n",
       "\n",
       "       Sales Margin Amount   Sales Price  Sales Quantity     Sales Rep  \n",
       "count         65282.000000  65281.000000    65282.000000  65282.000000  \n",
       "mean           1191.059145    283.615913       45.084311    137.422398  \n",
       "std            5860.787502    252.876719      429.661793     26.643936  \n",
       "min           -3932.930000  -5000.000000       -1.000000    103.000000  \n",
       "25%             129.950000    100.070000        2.000000    113.000000  \n",
       "50%             246.490000    183.757500        3.000000    134.000000  \n",
       "75%             579.530000    448.220000        8.000000    160.000000  \n",
       "max          188800.000000   6035.000000    16000.000000    185.000000  "
      ]
     },
     "execution_count": 21,
     "metadata": {},
     "output_type": "execute_result"
    }
   ],
   "source": [
    "df.describe()"
   ]
  },
  {
   "cell_type": "markdown",
   "id": "f09ddddf",
   "metadata": {},
   "source": [
    "## Data Cleaning"
   ]
  },
  {
   "cell_type": "code",
   "execution_count": 22,
   "id": "32d841e1",
   "metadata": {},
   "outputs": [
    {
     "data": {
      "text/plain": [
       "CustKey                                0\n",
       "DateKey                                0\n",
       "Discount Amount                        2\n",
       "Invoice Date                           0\n",
       "Invoice Number                         0\n",
       "Item Class                          8289\n",
       "Item Number                           41\n",
       "Item                                   0\n",
       "Line Number                            0\n",
       "List Price                             0\n",
       "Order Number                           0\n",
       "Promised Delivery Date                 0\n",
       "Sales Amount                           0\n",
       "Sales Amount Based on List Price       0\n",
       "Sales Cost Amount                      0\n",
       "Sales Margin Amount                    0\n",
       "Sales Price                            1\n",
       "Sales Quantity                         0\n",
       "Sales Rep                              0\n",
       "U/M                                    0\n",
       "dtype: int64"
      ]
     },
     "execution_count": 22,
     "metadata": {},
     "output_type": "execute_result"
    }
   ],
   "source": [
    "df.isna().sum()"
   ]
  },
  {
   "cell_type": "markdown",
   "id": "8f4f74b6",
   "metadata": {},
   "source": [
    "#Columns Item Class,Item Number,Sales Price,Discount Amount have null values"
   ]
  },
  {
   "cell_type": "code",
   "execution_count": 23,
   "id": "6d860625",
   "metadata": {},
   "outputs": [
    {
     "data": {
      "text/plain": [
       "CustKey                              0.000000\n",
       "DateKey                              0.000000\n",
       "Discount Amount                      0.003064\n",
       "Invoice Date                         0.000000\n",
       "Invoice Number                       0.000000\n",
       "Item Class                          12.697221\n",
       "Item Number                          0.062804\n",
       "Item                                 0.000000\n",
       "Line Number                          0.000000\n",
       "List Price                           0.000000\n",
       "Order Number                         0.000000\n",
       "Promised Delivery Date               0.000000\n",
       "Sales Amount                         0.000000\n",
       "Sales Amount Based on List Price     0.000000\n",
       "Sales Cost Amount                    0.000000\n",
       "Sales Margin Amount                  0.000000\n",
       "Sales Price                          0.001532\n",
       "Sales Quantity                       0.000000\n",
       "Sales Rep                            0.000000\n",
       "U/M                                  0.000000\n",
       "dtype: float64"
      ]
     },
     "execution_count": 23,
     "metadata": {},
     "output_type": "execute_result"
    }
   ],
   "source": [
    "df.isna().sum()/len(df)*100"
   ]
  },
  {
   "cell_type": "markdown",
   "id": "7ddb4137",
   "metadata": {},
   "source": [
    "#The null value percentage is higher in Item class column compared to other columns"
   ]
  },
  {
   "cell_type": "code",
   "execution_count": 25,
   "id": "fff895e5",
   "metadata": {},
   "outputs": [
    {
     "data": {
      "text/plain": [
       "P01    56977\n",
       "PO1       16\n",
       "Name: Item Class, dtype: int64"
      ]
     },
     "execution_count": 25,
     "metadata": {},
     "output_type": "execute_result"
    }
   ],
   "source": [
    "df['Item Class'].value_counts()"
   ]
  },
  {
   "cell_type": "markdown",
   "id": "b28715d6",
   "metadata": {},
   "source": [
    "#We will substitute Null values in 'Item Class' column with most common value i.e. P01."
   ]
  },
  {
   "cell_type": "code",
   "execution_count": 26,
   "id": "c2c2279e",
   "metadata": {},
   "outputs": [],
   "source": [
    "df['Item Class'].fillna(df['Item Class'].mode()[0], inplace=True)"
   ]
  },
  {
   "cell_type": "code",
   "execution_count": 27,
   "id": "941d266f",
   "metadata": {},
   "outputs": [
    {
     "data": {
      "text/plain": [
       "0"
      ]
     },
     "execution_count": 27,
     "metadata": {},
     "output_type": "execute_result"
    }
   ],
   "source": [
    "df['Item Class'].isna().sum()"
   ]
  },
  {
   "cell_type": "markdown",
   "id": "0b3aa13d",
   "metadata": {},
   "source": [
    "#The remaining null values are less than 0.1% of the total dataset hence we will drop them"
   ]
  },
  {
   "cell_type": "code",
   "execution_count": 29,
   "id": "22bba478",
   "metadata": {},
   "outputs": [],
   "source": [
    "df = df.dropna()"
   ]
  },
  {
   "cell_type": "code",
   "execution_count": 30,
   "id": "97d580c9",
   "metadata": {},
   "outputs": [
    {
     "data": {
      "text/html": [
       "<div>\n",
       "<style scoped>\n",
       "    .dataframe tbody tr th:only-of-type {\n",
       "        vertical-align: middle;\n",
       "    }\n",
       "\n",
       "    .dataframe tbody tr th {\n",
       "        vertical-align: top;\n",
       "    }\n",
       "\n",
       "    .dataframe thead th {\n",
       "        text-align: right;\n",
       "    }\n",
       "</style>\n",
       "<table border=\"1\" class=\"dataframe\">\n",
       "  <thead>\n",
       "    <tr style=\"text-align: right;\">\n",
       "      <th></th>\n",
       "      <th>CustKey</th>\n",
       "      <th>DateKey</th>\n",
       "      <th>Discount Amount</th>\n",
       "      <th>Invoice Date</th>\n",
       "      <th>Invoice Number</th>\n",
       "      <th>Item Class</th>\n",
       "      <th>Item Number</th>\n",
       "      <th>Item</th>\n",
       "      <th>Line Number</th>\n",
       "      <th>List Price</th>\n",
       "      <th>Order Number</th>\n",
       "      <th>Promised Delivery Date</th>\n",
       "      <th>Sales Amount</th>\n",
       "      <th>Sales Amount Based on List Price</th>\n",
       "      <th>Sales Cost Amount</th>\n",
       "      <th>Sales Margin Amount</th>\n",
       "      <th>Sales Price</th>\n",
       "      <th>Sales Quantity</th>\n",
       "      <th>Sales Rep</th>\n",
       "      <th>U/M</th>\n",
       "    </tr>\n",
       "  </thead>\n",
       "  <tbody>\n",
       "    <tr>\n",
       "      <th>1</th>\n",
       "      <td>10002220</td>\n",
       "      <td>2017-07-14</td>\n",
       "      <td>368.790</td>\n",
       "      <td>2017-07-14</td>\n",
       "      <td>100233</td>\n",
       "      <td>P01</td>\n",
       "      <td>20910</td>\n",
       "      <td>Moms Sliced Turkey</td>\n",
       "      <td>1000</td>\n",
       "      <td>824.960</td>\n",
       "      <td>200245</td>\n",
       "      <td>2017-07-14</td>\n",
       "      <td>456.17</td>\n",
       "      <td>824.960</td>\n",
       "      <td>0.0</td>\n",
       "      <td>456.17</td>\n",
       "      <td>456.170000</td>\n",
       "      <td>1</td>\n",
       "      <td>127</td>\n",
       "      <td>EA</td>\n",
       "    </tr>\n",
       "    <tr>\n",
       "      <th>2</th>\n",
       "      <td>10002220</td>\n",
       "      <td>2017-10-17</td>\n",
       "      <td>109.730</td>\n",
       "      <td>2017-10-17</td>\n",
       "      <td>116165</td>\n",
       "      <td>P01</td>\n",
       "      <td>38076</td>\n",
       "      <td>Cutting Edge Foot-Long Hot Dogs</td>\n",
       "      <td>1000</td>\n",
       "      <td>548.660</td>\n",
       "      <td>213157</td>\n",
       "      <td>2017-10-16</td>\n",
       "      <td>438.93</td>\n",
       "      <td>548.660</td>\n",
       "      <td>0.0</td>\n",
       "      <td>438.93</td>\n",
       "      <td>438.930000</td>\n",
       "      <td>1</td>\n",
       "      <td>127</td>\n",
       "      <td>EA</td>\n",
       "    </tr>\n",
       "    <tr>\n",
       "      <th>4</th>\n",
       "      <td>10004516</td>\n",
       "      <td>2017-05-27</td>\n",
       "      <td>96627.940</td>\n",
       "      <td>2017-05-27</td>\n",
       "      <td>103341</td>\n",
       "      <td>P01</td>\n",
       "      <td>60776</td>\n",
       "      <td>High Top Sweet Onion</td>\n",
       "      <td>1000</td>\n",
       "      <td>408.520</td>\n",
       "      <td>203785</td>\n",
       "      <td>2017-05-28</td>\n",
       "      <td>89248.66</td>\n",
       "      <td>185876.600</td>\n",
       "      <td>0.0</td>\n",
       "      <td>89248.66</td>\n",
       "      <td>196.150901</td>\n",
       "      <td>455</td>\n",
       "      <td>124</td>\n",
       "      <td>SE</td>\n",
       "    </tr>\n",
       "    <tr>\n",
       "      <th>6</th>\n",
       "      <td>10007866</td>\n",
       "      <td>2017-09-03</td>\n",
       "      <td>371.014</td>\n",
       "      <td>2017-09-03</td>\n",
       "      <td>100403</td>\n",
       "      <td>P01</td>\n",
       "      <td>20910</td>\n",
       "      <td>Moms Sliced Turkey</td>\n",
       "      <td>2000</td>\n",
       "      <td>795.314</td>\n",
       "      <td>200436</td>\n",
       "      <td>2017-09-03</td>\n",
       "      <td>424.30</td>\n",
       "      <td>795.314</td>\n",
       "      <td>0.0</td>\n",
       "      <td>424.30</td>\n",
       "      <td>424.300000</td>\n",
       "      <td>1</td>\n",
       "      <td>149</td>\n",
       "      <td>EA</td>\n",
       "    </tr>\n",
       "    <tr>\n",
       "      <th>7</th>\n",
       "      <td>10009356</td>\n",
       "      <td>2017-06-18</td>\n",
       "      <td>608.080</td>\n",
       "      <td>2017-06-18</td>\n",
       "      <td>105481</td>\n",
       "      <td>P01</td>\n",
       "      <td>62550</td>\n",
       "      <td>Tell Tale Garlic</td>\n",
       "      <td>29000</td>\n",
       "      <td>575.000</td>\n",
       "      <td>205213</td>\n",
       "      <td>2017-06-18</td>\n",
       "      <td>541.92</td>\n",
       "      <td>1150.000</td>\n",
       "      <td>0.0</td>\n",
       "      <td>541.92</td>\n",
       "      <td>270.960000</td>\n",
       "      <td>2</td>\n",
       "      <td>103</td>\n",
       "      <td>EA</td>\n",
       "    </tr>\n",
       "  </tbody>\n",
       "</table>\n",
       "</div>"
      ],
      "text/plain": [
       "    CustKey    DateKey  Discount Amount Invoice Date  Invoice Number  \\\n",
       "1  10002220 2017-07-14          368.790   2017-07-14          100233   \n",
       "2  10002220 2017-10-17          109.730   2017-10-17          116165   \n",
       "4  10004516 2017-05-27        96627.940   2017-05-27          103341   \n",
       "6  10007866 2017-09-03          371.014   2017-09-03          100403   \n",
       "7  10009356 2017-06-18          608.080   2017-06-18          105481   \n",
       "\n",
       "  Item Class Item Number                             Item  Line Number  \\\n",
       "1        P01       20910               Moms Sliced Turkey         1000   \n",
       "2        P01       38076  Cutting Edge Foot-Long Hot Dogs         1000   \n",
       "4        P01       60776             High Top Sweet Onion         1000   \n",
       "6        P01       20910               Moms Sliced Turkey         2000   \n",
       "7        P01       62550                 Tell Tale Garlic        29000   \n",
       "\n",
       "   List Price  Order Number Promised Delivery Date  Sales Amount  \\\n",
       "1     824.960        200245             2017-07-14        456.17   \n",
       "2     548.660        213157             2017-10-16        438.93   \n",
       "4     408.520        203785             2017-05-28      89248.66   \n",
       "6     795.314        200436             2017-09-03        424.30   \n",
       "7     575.000        205213             2017-06-18        541.92   \n",
       "\n",
       "   Sales Amount Based on List Price  Sales Cost Amount  Sales Margin Amount  \\\n",
       "1                           824.960                0.0               456.17   \n",
       "2                           548.660                0.0               438.93   \n",
       "4                        185876.600                0.0             89248.66   \n",
       "6                           795.314                0.0               424.30   \n",
       "7                          1150.000                0.0               541.92   \n",
       "\n",
       "   Sales Price  Sales Quantity  Sales Rep U/M  \n",
       "1   456.170000               1        127  EA  \n",
       "2   438.930000               1        127  EA  \n",
       "4   196.150901             455        124  SE  \n",
       "6   424.300000               1        149  EA  \n",
       "7   270.960000               2        103  EA  "
      ]
     },
     "execution_count": 30,
     "metadata": {},
     "output_type": "execute_result"
    }
   ],
   "source": [
    "df.head()"
   ]
  },
  {
   "cell_type": "code",
   "execution_count": 31,
   "id": "2ee411fc",
   "metadata": {},
   "outputs": [
    {
     "data": {
      "text/plain": [
       "CustKey                             65241\n",
       "DateKey                             65241\n",
       "Discount Amount                     65241\n",
       "Invoice Date                        65241\n",
       "Invoice Number                      65241\n",
       "Item Class                          65241\n",
       "Item Number                         65241\n",
       "Item                                65241\n",
       "Line Number                         65241\n",
       "List Price                          65241\n",
       "Order Number                        65241\n",
       "Promised Delivery Date              65241\n",
       "Sales Amount                        65241\n",
       "Sales Amount Based on List Price    65241\n",
       "Sales Cost Amount                   65241\n",
       "Sales Margin Amount                 65241\n",
       "Sales Price                         65241\n",
       "Sales Quantity                      65241\n",
       "Sales Rep                           65241\n",
       "U/M                                 65241\n",
       "dtype: int64"
      ]
     },
     "execution_count": 31,
     "metadata": {},
     "output_type": "execute_result"
    }
   ],
   "source": [
    "df.count()"
   ]
  },
  {
   "cell_type": "code",
   "execution_count": 32,
   "id": "ca80de6d",
   "metadata": {},
   "outputs": [
    {
     "data": {
      "text/plain": [
       "CustKey                             0\n",
       "DateKey                             0\n",
       "Discount Amount                     0\n",
       "Invoice Date                        0\n",
       "Invoice Number                      0\n",
       "Item Class                          0\n",
       "Item Number                         0\n",
       "Item                                0\n",
       "Line Number                         0\n",
       "List Price                          0\n",
       "Order Number                        0\n",
       "Promised Delivery Date              0\n",
       "Sales Amount                        0\n",
       "Sales Amount Based on List Price    0\n",
       "Sales Cost Amount                   0\n",
       "Sales Margin Amount                 0\n",
       "Sales Price                         0\n",
       "Sales Quantity                      0\n",
       "Sales Rep                           0\n",
       "U/M                                 0\n",
       "dtype: int64"
      ]
     },
     "execution_count": 32,
     "metadata": {},
     "output_type": "execute_result"
    }
   ],
   "source": [
    "df.isna().sum()"
   ]
  },
  {
   "cell_type": "code",
   "execution_count": 34,
   "id": "3cce85f8",
   "metadata": {},
   "outputs": [
    {
     "data": {
      "text/plain": [
       "0"
      ]
     },
     "execution_count": 34,
     "metadata": {},
     "output_type": "execute_result"
    }
   ],
   "source": [
    "df.duplicated().sum()"
   ]
  },
  {
   "cell_type": "markdown",
   "id": "7ccacb99",
   "metadata": {},
   "source": [
    "## Exporting the Clear Data File"
   ]
  },
  {
   "cell_type": "code",
   "execution_count": 35,
   "id": "7a9c06b3",
   "metadata": {},
   "outputs": [],
   "source": [
    "df.to_csv('Amazon Cleaned Sales Data.csv')"
   ]
  },
  {
   "cell_type": "code",
   "execution_count": null,
   "id": "15f3d2d1",
   "metadata": {},
   "outputs": [],
   "source": []
  }
 ],
 "metadata": {
  "kernelspec": {
   "display_name": "Python 3 (ipykernel)",
   "language": "python",
   "name": "python3"
  },
  "language_info": {
   "codemirror_mode": {
    "name": "ipython",
    "version": 3
   },
   "file_extension": ".py",
   "mimetype": "text/x-python",
   "name": "python",
   "nbconvert_exporter": "python",
   "pygments_lexer": "ipython3",
   "version": "3.9.7"
  }
 },
 "nbformat": 4,
 "nbformat_minor": 5
}
